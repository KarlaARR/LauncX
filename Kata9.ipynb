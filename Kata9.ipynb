{
 "cells": [
  {
   "cell_type": "markdown",
   "metadata": {},
   "source": [
    "\n",
    "# Ejercicio: Uso de funciones en Python\n",
    "Los argumentos requeridos en las funciones se utilizan cuando las funciones necesitan que esos argumentos funcionen correctamente. En este ejercicio, construirás un informe de combustible que requiere información de varias ubicaciones de combustible en todo el cohete.\n",
    "\n",
    "Comienza por crear una función que necesite tres lecturas de combustible y devuelva un informe:"
   ]
  },
  {
   "cell_type": "code",
   "execution_count": 4,
   "metadata": {},
   "outputs": [
    {
     "name": "stdout",
     "output_type": "stream",
     "text": [
      "Promedio: 0.0\n",
      "Tanque 1: 0\n",
      "Tanque 2: 0\n",
      "Tanque 3: 0\n"
     ]
    }
   ],
   "source": [
    "# Función para leer 3 tanques de combustible y muestre el promedio\n",
    "def informes( tanque1, tanque2, tanque3):\n",
    "    promedio = (tanque1 + tanque2 + tanque3) / 3\n",
    "    return f\"\"\"Promedio: {promedio}\n",
    "Tanque 1: {tanque1}\n",
    "Tanque 2: {tanque2}\n",
    "Tanque 3: {tanque3}\"\"\"\n",
    "\n",
    "# Llamamos a la función que genera el reporte print(funcion(tanque1, tanque2, tanque3))\n",
    "print(informes(0,0,0))\n"
   ]
  },
  {
   "cell_type": "markdown",
   "metadata": {},
   "source": [
    "\n",
    "\n",
    "En lugar de simplemente crear el informe, la función también está calculando el promedio. Mejora la legibilidad extrayendo el cálculo promedio de la función en una nueva función para que el promedio se pueda hacer de forma independiente:\n"
   ]
  },
  {
   "cell_type": "code",
   "execution_count": 14,
   "metadata": {},
   "outputs": [
    {
     "name": "stdout",
     "output_type": "stream",
     "text": [
      "\n",
      "    Promedio: 20.0\n",
      "    Tanque 1: 10\n",
      "    Tanque 2: 20\n",
      "    Tanque 3: 30\n"
     ]
    }
   ],
   "source": [
    "# Función promedio \n",
    "def promedio(valores):\n",
    "    total = sum(valores)\n",
    "    numero_tanques = len(valores)\n",
    "    return total/numero_tanques\n",
    "\n",
    "# Actualiza la función\n",
    "def informes( tanque1, tanque2, tanque3):\n",
    "    return f\"\"\"\n",
    "    Promedio: {promedio([tanque1 , tanque2 , tanque3])}\n",
    "    Tanque 1: {tanque1}\n",
    "    Tanque 2: {tanque2}\n",
    "    Tanque 3: {tanque3}\"\"\"\n",
    "\n",
    "print(informes(10,20,30))\n"
   ]
  },
  {
   "cell_type": "markdown",
   "metadata": {},
   "source": [
    "\n",
    "# Ejercicio 2: Trabajo con argumentos de palabra clave\n",
    "En este ejercicio, construirás un informe de cohete que requiere varias piezas de información, como el tiempo hasta el destino, el combustible a la izquierda y el nombre del destino. Comienza por crear una función que creará un informe preciso de la misión:\n"
   ]
  },
  {
   "cell_type": "code",
   "execution_count": 15,
   "metadata": {},
   "outputs": [
    {
     "name": "stdout",
     "output_type": "stream",
     "text": [
      "\n",
      "    Mision a Luna\n",
      "    Total de tiempo: 65 minutos\n",
      "    Combustible restante: 500000 gallons\n",
      "    \n"
     ]
    }
   ],
   "source": [
    "# Función con un informe preciso de la misión. Considera hora de prelanzamiento, tiempo de vuelo, destino, tanque externo y tanque interno\n",
    "\n",
    "def informe_mision(hora_prelanzamiento, tiempo_vuelo, destino, tanque_externo, tanque_interno):\n",
    "    return f\"\"\"\n",
    "    Mision a {destino}\n",
    "    Total de tiempo: {hora_prelanzamiento + tiempo_vuelo} minutos\n",
    "    Combustible restante: {tanque_externo + tanque_interno} gallons\n",
    "    \"\"\"\n",
    "\n",
    "print(informe_mision(14, 51, \"Luna\", 200000, 300000))\n"
   ]
  },
  {
   "cell_type": "markdown",
   "metadata": {},
   "source": [
    "La función es problemática porque no se puede adaptar para minutos adicionales o tanques adicionales de combustible. Hazlo más flexible permitiendo cualquier número de pasos basados en el tiempo y cualquier número de tanques. En lugar de usar *args y **kwargs, aprovecha el hecho de que puedes usar cualquier nombre que desees. Asegurate que la función sea más legible mediante el uso de nombres de variables que están asociados con las entradas, como *minutes y **fuel_reservoirs:"
   ]
  },
  {
   "cell_type": "code",
   "execution_count": 18,
   "metadata": {},
   "outputs": [
    {
     "name": "stdout",
     "output_type": "stream",
     "text": [
      "\n",
      "    Mision a Luna\n",
      "    Total de tiempo: 65 minutos\n",
      "    Combustible restante: 500000 gallons\n",
      "    \n"
     ]
    }
   ],
   "source": [
    "# Escribe tu nueva función de reporte considerando lo anterior\n",
    "def informe_mision( destino, *minutos, **reserva_combustible):\n",
    "    return f\"\"\"\n",
    "    Mision a {destino}\n",
    "    Total de tiempo: {sum(minutos)} minutos\n",
    "    Combustible restante: {sum(reserva_combustible.values())} gallons\n",
    "    \"\"\"\n",
    "\n",
    "print(informe_mision(\"Luna\", 14, 51, externo=200000,interno= 300000))\n"
   ]
  },
  {
   "cell_type": "markdown",
   "metadata": {},
   "source": [
    "\n",
    "\n",
    "Debido a que el combustible que queda en los tanques es específico de cada tanque, actualiza la función para usar el nombre de cada tanque en el informe:\n"
   ]
  },
  {
   "cell_type": "code",
   "execution_count": 26,
   "metadata": {},
   "outputs": [
    {
     "name": "stdout",
     "output_type": "stream",
     "text": [
      "\n",
      "        Mision a Luna\n",
      "        Total de tiempo: 65 minutos\n",
      "        Tanque externo: 200000 gallons\n",
      "\tTanque interno: 300000 gallons\n",
      "\t\n"
     ]
    }
   ],
   "source": [
    "def informe_mision( destino, *minutos, **reserva_combustible):\n",
    "    reporte =  f\"\"\"\n",
    "        Mision a {destino}\n",
    "        Total de tiempo: {sum(minutos)} minutos\n",
    "        \"\"\"\n",
    "\n",
    "    for tanque, gallons in reserva_combustible.items():\n",
    "        reporte += f\"Tanque {tanque}: {gallons} gallons\\n\\t\"\n",
    "\n",
    "    return reporte\n",
    "\n",
    "print(informe_mision(\"Luna\", 14, 51, externo=200000,interno= 300000))"
   ]
  }
 ],
 "metadata": {
  "interpreter": {
   "hash": "31f2aee4e71d21fbe5cf8b01ff0e069b9275f58929596ceb00d14d90e3e16cd6"
  },
  "kernelspec": {
   "display_name": "Python 3.8.10 64-bit",
   "language": "python",
   "name": "python3"
  },
  "language_info": {
   "codemirror_mode": {
    "name": "ipython",
    "version": 3
   },
   "file_extension": ".py",
   "mimetype": "text/x-python",
   "name": "python",
   "nbconvert_exporter": "python",
   "pygments_lexer": "ipython3",
   "version": "3.8.10"
  },
  "orig_nbformat": 4
 },
 "nbformat": 4,
 "nbformat_minor": 2
}
